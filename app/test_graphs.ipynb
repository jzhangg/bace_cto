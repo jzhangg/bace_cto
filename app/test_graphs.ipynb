{
 "cells": [
  {
   "cell_type": "code",
   "execution_count": null,
   "metadata": {},
   "outputs": [],
   "source": [
    "# Preliminaries\n",
    "import numpy as np\n",
    "import pandas as pd\n",
    "import seaborn as sns\n",
    "import matplotlib.pyplot as plt\n",
    "\n",
    "# Personal Imports\n",
    "from bace.user_config import theta_params, design_params, likelihood_pdf, author, size_thetas"
   ]
  },
  {
   "cell_type": "code",
   "execution_count": null,
   "metadata": {},
   "outputs": [],
   "source": [
    "file='simulation_output/simulation.csv'\n",
    "df = pd.read_csv(file)"
   ]
  },
  {
   "cell_type": "code",
   "execution_count": null,
   "metadata": {},
   "outputs": [],
   "source": [
    "df['opt_search'] = df['opt_type'] + '_' + df['search_type']"
   ]
  },
  {
   "cell_type": "code",
   "execution_count": null,
   "metadata": {},
   "outputs": [],
   "source": [
    "for param in theta_params:\n",
    "\n",
    "    err_col = '_'.join([param, 'err'])\n",
    "    sqerr_col = '_'.join([param, 'sqerr'])\n",
    "\n",
    "    df[err_col] = df[f'true_{param}'] - df[f'mean_{param}']\n",
    "    df[sqerr_col] = df[err_col] ** 2\n",
    "\n",
    "    fix, ax = plt.subplots(figsize=(7, 5))\n",
    "    sns.lineplot(x='round_no', \n",
    "                 y=sqerr_col, \n",
    "                 hue='opt_search', \n",
    "                 data=df).set(\n",
    "                    title=f'MSE Estimation of Parameter: {param.title()}',\n",
    "                    xlabel=f'# of Designs',\n",
    "                    ylabel='Mean Squared Error (MSE)'\n",
    "                 )"
   ]
  }
 ],
 "metadata": {
  "kernelspec": {
   "display_name": "Python 3",
   "language": "python",
   "name": "python3"
  },
  "language_info": {
   "codemirror_mode": {
    "name": "ipython",
    "version": 3
   },
   "file_extension": ".py",
   "mimetype": "text/x-python",
   "name": "python",
   "nbconvert_exporter": "python",
   "pygments_lexer": "ipython3",
   "version": "3.10.1"
  },
  "orig_nbformat": 4,
  "vscode": {
   "interpreter": {
    "hash": "75fbdf6068fd5430abb8e4e582ec198c9385ff36c60a1760cd6b5fea25ca0a37"
   }
  }
 },
 "nbformat": 4,
 "nbformat_minor": 2
}
