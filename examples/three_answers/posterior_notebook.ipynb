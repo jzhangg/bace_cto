{
 "cells": [
  {
   "cell_type": "markdown",
   "metadata": {},
   "source": [
    "This notebook plots the posterior distribution for the user configuration file specified in `examples/three_answers`.\n",
    "\n",
    "To use this notebook, copy and paste this file into the `app` folder, and move the `examples/three_answers/user_config.py` file into `app/bace`.\n",
    "\n",
    "The notebook demonstrates how the posterior distribution updates over the course of six questions for a discrete choice experiment with three answer choices."
   ]
  },
  {
   "cell_type": "code",
   "execution_count": null,
   "metadata": {},
   "outputs": [],
   "source": [
    "import numpy as np\n",
    "import matplotlib.pyplot as plt\n",
    "\n",
    "from bace.bace_utils import sample_thetas\n",
    "from bace.design_optimization import design_tuner, get_next_design\n",
    "from bace.pmc_inference import pmc\n",
    "from bace.user_config import theta_params, likelihood_pdf, answers\n",
    "\n",
    "N = 50000\n",
    "true_value = sample_thetas(theta_params, N=1).to_dict(orient='r')[0]\n",
    "\n",
    "def get_response(true_value, design, answers):\n",
    "    w = []\n",
    "    for a in answers:\n",
    "        w.append(likelihood_pdf(a, true_value, **design))\n",
    "    w = np.cumsum(w)\n",
    "    r = np.random.uniform()\n",
    "    index = np.searchsorted(w, r)\n",
    "    return answers[index]\n",
    "\n",
    "def plot_posterior(posterior, design, true_value, Q):\n",
    "\n",
    "    num_bins = 50\n",
    "\n",
    "    # Create the density plot\n",
    "    fig, ax = plt.subplots()\n",
    "    n, bins, patches = ax.hist(posterior['x'], bins=num_bins, density=True, histtype='stepfilled', alpha=0.5)\n",
    "\n",
    "    # Add a title and axis labels\n",
    "    ax.set_title(f'Density Plot after Question: {Q}')\n",
    "    ax.set_xlabel('Value')\n",
    "    ax.set_ylabel('Density')\n",
    "\n",
    "    # Add a vertical line at the mean of the data\n",
    "    mean_x = posterior.mean()['x']\n",
    "    ax.axvline(mean_x, color='red', linestyle='dashed', linewidth=2)\n",
    "    ax.axvline(design['x1'], color='black', linestyle='dotted')\n",
    "    ax.axvline(design['x2'], color='black', linestyle='dotted')\n",
    "    ax.axvline(true_value['x'], color='green')\n",
    "\n",
    "    plt.show()\n",
    "\n",
    "design_history = []\n",
    "answer_history = []"
   ]
  },
  {
   "cell_type": "code",
   "execution_count": null,
   "metadata": {},
   "outputs": [],
   "source": [
    "# Select design.\n",
    "thetas = sample_thetas(theta_params, N)\n",
    "design = get_next_design(thetas, design_tuner)\n",
    "\n",
    "# Get answer according to likelihood function\n",
    "answer = get_response(true_value, design, answers)\n",
    "\n",
    "# Store data\n",
    "design_history.append(design)\n",
    "answer_history.append(answer)\n",
    "\n",
    "# Calculate posterior\n",
    "posterior = pmc(theta_params, answer_history, design_history, likelihood_pdf, N, J=20)\n",
    "\n",
    "# Plot output\n",
    "plot_posterior(posterior, design, true_value, len(design_history))\n"
   ]
  },
  {
   "cell_type": "code",
   "execution_count": null,
   "metadata": {},
   "outputs": [],
   "source": [
    "# Select design.\n",
    "design = get_next_design(posterior, design_tuner)\n",
    "\n",
    "# Get answer according to likelihood function\n",
    "answer = get_response(true_value, design, answers)\n",
    "\n",
    "# Store data\n",
    "design_history.append(design)\n",
    "answer_history.append(answer)\n",
    "\n",
    "# Calculate posterior\n",
    "posterior = pmc(theta_params, answer_history, design_history, likelihood_pdf, N, J=20)\n",
    "\n",
    "# Plot output\n",
    "plot_posterior(posterior, design, true_value, len(design_history))"
   ]
  },
  {
   "cell_type": "code",
   "execution_count": null,
   "metadata": {},
   "outputs": [],
   "source": [
    "# Select design.\n",
    "design = get_next_design(posterior, design_tuner)\n",
    "\n",
    "# Get answer according to likelihood function\n",
    "answer = get_response(true_value, design, answers)\n",
    "\n",
    "# Store data\n",
    "design_history.append(design)\n",
    "answer_history.append(answer)\n",
    "\n",
    "# Calculate posterior\n",
    "posterior = pmc(theta_params, answer_history, design_history, likelihood_pdf, N, J=20)\n",
    "\n",
    "# Plot output\n",
    "plot_posterior(posterior, design, true_value, len(design_history))"
   ]
  },
  {
   "cell_type": "code",
   "execution_count": null,
   "metadata": {},
   "outputs": [],
   "source": [
    "# Select design.\n",
    "design = get_next_design(posterior, design_tuner)\n",
    "\n",
    "# Get answer according to likelihood function\n",
    "answer = get_response(true_value, design, answers)\n",
    "\n",
    "# Store data\n",
    "design_history.append(design)\n",
    "answer_history.append(answer)\n",
    "\n",
    "# Calculate posterior\n",
    "posterior = pmc(theta_params, answer_history, design_history, likelihood_pdf, N, J=20)\n",
    "\n",
    "# Plot output\n",
    "plot_posterior(posterior, design, true_value, len(design_history))"
   ]
  },
  {
   "cell_type": "code",
   "execution_count": null,
   "metadata": {},
   "outputs": [],
   "source": [
    "# Select design.\n",
    "design = get_next_design(posterior, design_tuner)\n",
    "\n",
    "# Get answer according to likelihood function\n",
    "answer = get_response(true_value, design, answers)\n",
    "\n",
    "# Store data\n",
    "design_history.append(design)\n",
    "answer_history.append(answer)\n",
    "\n",
    "# Calculate posterior\n",
    "posterior = pmc(theta_params, answer_history, design_history, likelihood_pdf, N, J=20)\n",
    "\n",
    "# Plot output\n",
    "plot_posterior(posterior, design, true_value, len(design_history))"
   ]
  },
  {
   "cell_type": "code",
   "execution_count": null,
   "metadata": {},
   "outputs": [],
   "source": [
    "# Select design.\n",
    "design = get_next_design(posterior, design_tuner)\n",
    "\n",
    "# Get answer according to likelihood function\n",
    "answer = get_response(true_value, design, answers)\n",
    "\n",
    "# Store data\n",
    "design_history.append(design)\n",
    "answer_history.append(answer)\n",
    "\n",
    "# Calculate posterior\n",
    "posterior = pmc(theta_params, answer_history, design_history, likelihood_pdf, N, J=20)\n",
    "\n",
    "# Plot output\n",
    "plot_posterior(posterior, design, true_value, len(design_history))"
   ]
  },
  {
   "cell_type": "code",
   "execution_count": null,
   "metadata": {},
   "outputs": [],
   "source": [
    "print(f'True value: {true_value}')\n",
    "print(f'Estimated Value\\nMean:\\n{posterior.mean()}\\nMedian:\\n{posterior.median()}')"
   ]
  }
 ],
 "metadata": {
  "kernelspec": {
   "display_name": "Python 3",
   "language": "python",
   "name": "python3"
  },
  "language_info": {
   "codemirror_mode": {
    "name": "ipython",
    "version": 3
   },
   "file_extension": ".py",
   "mimetype": "text/x-python",
   "name": "python",
   "nbconvert_exporter": "python",
   "pygments_lexer": "ipython3",
   "version": "3.10.1"
  },
  "orig_nbformat": 4,
  "vscode": {
   "interpreter": {
    "hash": "75fbdf6068fd5430abb8e4e582ec198c9385ff36c60a1760cd6b5fea25ca0a37"
   }
  }
 },
 "nbformat": 4,
 "nbformat_minor": 2
}
